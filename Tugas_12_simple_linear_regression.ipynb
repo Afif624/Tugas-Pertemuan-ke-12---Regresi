{
  "cells": [
    {
      "cell_type": "markdown",
      "metadata": {
        "id": "l_LulNCC8z96"
      },
      "source": [
        "# Simple Linear Regression"
      ]
    },
    {
      "cell_type": "markdown",
      "metadata": {
        "id": "xpXdowrE9DxW"
      },
      "source": [
        "## Importing the libraries"
      ]
    },
    {
      "cell_type": "code",
      "execution_count": 117,
      "metadata": {
        "id": "nhKd4hWx9GFt"
      },
      "outputs": [],
      "source": [
        "import numpy as np\n",
        "import matplotlib.pyplot as plt\n",
        "import pandas as pd"
      ]
    },
    {
      "cell_type": "markdown",
      "metadata": {
        "id": "6JhpWJi59J1p"
      },
      "source": [
        "## Importing the dataset"
      ]
    },
    {
      "cell_type": "code",
      "execution_count": 118,
      "metadata": {
        "id": "f8GfYDZ59O18"
      },
      "outputs": [],
      "source": [
        "dataset = pd.read_csv('advertising.csv')\n",
        "X = dataset.iloc[:, :-2].values\n",
        "y = dataset.iloc[:, [-1,-2]].values"
      ]
    },
    {
      "cell_type": "code",
      "execution_count": 119,
      "metadata": {
        "colab": {
          "base_uri": "https://localhost:8080/"
        },
        "id": "v4RKAZFmNp5_",
        "outputId": "4bd51beb-653c-449c-d519-bc09d057c7fc"
      },
      "outputs": [
        {
          "output_type": "execute_result",
          "data": {
            "text/plain": [
              "array([[ 22.1,  69.2],\n",
              "       [ 10.4,  45.1],\n",
              "       [ 12. ,  69.3],\n",
              "       [ 16.5,  58.5],\n",
              "       [ 17.9,  58.4],\n",
              "       [  7.2,  75. ],\n",
              "       [ 11.8,  23.5],\n",
              "       [ 13.2,  11.6],\n",
              "       [  4.8,   1. ],\n",
              "       [ 15.6,  21.2],\n",
              "       [ 12.6,  24.2],\n",
              "       [ 17.4,   4. ],\n",
              "       [  9.2,  65.9],\n",
              "       [ 13.7,   7.2],\n",
              "       [ 19. ,  46. ],\n",
              "       [ 22.4,  52.9],\n",
              "       [ 12.5, 114. ],\n",
              "       [ 24.4,  55.8],\n",
              "       [ 11.3,  18.3],\n",
              "       [ 14.6,  19.1],\n",
              "       [ 18. ,  53.4],\n",
              "       [ 17.5,  23.5],\n",
              "       [  5.6,  49.6],\n",
              "       [ 20.5,  26.2],\n",
              "       [  9.7,  18.3],\n",
              "       [ 17. ,  19.5],\n",
              "       [ 15. ,  12.6],\n",
              "       [ 20.9,  22.9],\n",
              "       [ 18.9,  22.9],\n",
              "       [ 10.5,  40.8],\n",
              "       [ 21.4,  43.2],\n",
              "       [ 11.9,  38.6],\n",
              "       [ 13.2,  30. ],\n",
              "       [ 17.4,   0.3],\n",
              "       [ 11.9,   7.4],\n",
              "       [ 17.8,   8.5],\n",
              "       [ 25.4,   5. ],\n",
              "       [ 14.7,  45.7],\n",
              "       [ 10.1,  35.1],\n",
              "       [ 21.5,  32. ],\n",
              "       [ 16.6,  31.6],\n",
              "       [ 17.1,  38.7],\n",
              "       [ 20.7,   1.8],\n",
              "       [ 17.9,  26.4],\n",
              "       [  8.5,  43.3],\n",
              "       [ 16.1,  31.5],\n",
              "       [ 10.6,  35.7],\n",
              "       [ 23.2,  18.5],\n",
              "       [ 19.8,  49.9],\n",
              "       [  9.7,  36.8],\n",
              "       [ 16.4,  34.6],\n",
              "       [ 10.7,   3.6],\n",
              "       [ 22.6,  39.6],\n",
              "       [ 21.2,  58.7],\n",
              "       [ 20.2,  15.9],\n",
              "       [ 23.7,  60. ],\n",
              "       [  5.5,  41.4],\n",
              "       [ 13.2,  16.6],\n",
              "       [ 23.8,  37.7],\n",
              "       [ 18.4,   9.3],\n",
              "       [  8.1,  21.4],\n",
              "       [ 24.2,  54.7],\n",
              "       [ 20.7,  27.3],\n",
              "       [ 14. ,   8.4],\n",
              "       [ 16. ,  28.9],\n",
              "       [ 11.3,   0.9],\n",
              "       [ 11. ,   2.2],\n",
              "       [ 13.4,  10.2],\n",
              "       [ 18.9,  11. ],\n",
              "       [ 22.3,  27.2],\n",
              "       [ 18.3,  38.7],\n",
              "       [ 12.4,  31.7],\n",
              "       [  8.8,  19.3],\n",
              "       [ 11. ,  31.3],\n",
              "       [ 17. ,  13.1],\n",
              "       [  8.7,  89.4],\n",
              "       [  6.9,  20.7],\n",
              "       [ 14.2,  14.2],\n",
              "       [  5.3,   9.4],\n",
              "       [ 11. ,  23.1],\n",
              "       [ 11.8,  22.3],\n",
              "       [ 17.3,  36.9],\n",
              "       [ 11.3,  32.5],\n",
              "       [ 13.6,  35.6],\n",
              "       [ 21.7,  33.8],\n",
              "       [ 20.2,  65.7],\n",
              "       [ 12. ,  16. ],\n",
              "       [ 16. ,  63.2],\n",
              "       [ 12.9,  73.4],\n",
              "       [ 16.7,  51.4],\n",
              "       [ 14. ,   9.3],\n",
              "       [  7.3,  33. ],\n",
              "       [ 19.4,  59. ],\n",
              "       [ 22.2,  72.3],\n",
              "       [ 11.5,  10.9],\n",
              "       [ 16.9,  52.9],\n",
              "       [ 16.7,   5.9],\n",
              "       [ 20.5,  22. ],\n",
              "       [ 25.4,  51.2],\n",
              "       [ 17.2,  45.9],\n",
              "       [ 16.7,  49.8],\n",
              "       [ 23.8, 100.9],\n",
              "       [ 19.8,  21.4],\n",
              "       [ 19.7,  17.9],\n",
              "       [ 20.7,   5.3],\n",
              "       [ 15. ,  59. ],\n",
              "       [  7.2,  29.7],\n",
              "       [ 12. ,  23.2],\n",
              "       [  5.3,  25.6],\n",
              "       [ 19.8,   5.5],\n",
              "       [ 18.4,  56.5],\n",
              "       [ 21.8,  23.2],\n",
              "       [ 17.1,   2.4],\n",
              "       [ 20.9,  10.7],\n",
              "       [ 14.6,  34.5],\n",
              "       [ 12.6,  52.7],\n",
              "       [ 12.2,  25.6],\n",
              "       [  9.4,  14.8],\n",
              "       [ 15.9,  79.2],\n",
              "       [  6.6,  22.3],\n",
              "       [ 15.5,  46.2],\n",
              "       [  7. ,  50.4],\n",
              "       [ 16.6,  15.6],\n",
              "       [ 15.2,  12.4],\n",
              "       [ 19.7,  74.2],\n",
              "       [ 10.6,  25.9],\n",
              "       [  6.6,  50.6],\n",
              "       [ 11.9,   9.2],\n",
              "       [ 24.7,   3.2],\n",
              "       [  9.7,  43.1],\n",
              "       [  1.6,   8.7],\n",
              "       [ 17.7,  43. ],\n",
              "       [  5.7,   2.1],\n",
              "       [ 19.6,  45.1],\n",
              "       [ 10.8,  65.6],\n",
              "       [ 11.6,   8.5],\n",
              "       [  9.5,   9.3],\n",
              "       [ 20.8,  59.7],\n",
              "       [  9.6,  20.5],\n",
              "       [ 20.7,   1.7],\n",
              "       [ 10.9,  12.9],\n",
              "       [ 19.2,  75.6],\n",
              "       [ 20.1,  37.9],\n",
              "       [ 10.4,  34.4],\n",
              "       [ 12.3,  38.9],\n",
              "       [ 10.3,   9. ],\n",
              "       [ 18.2,   8.7],\n",
              "       [ 25.4,  44.3],\n",
              "       [ 10.9,  11.9],\n",
              "       [ 10.1,  20.6],\n",
              "       [ 16.1,  37. ],\n",
              "       [ 11.6,  48.7],\n",
              "       [ 16.6,  14.2],\n",
              "       [ 16. ,  37.7],\n",
              "       [ 20.6,   9.5],\n",
              "       [  3.2,   5.7],\n",
              "       [ 15.3,  50.5],\n",
              "       [ 10.1,  24.3],\n",
              "       [  7.3,  45.2],\n",
              "       [ 12.9,  34.6],\n",
              "       [ 16.4,  30.7],\n",
              "       [ 13.3,  49.3],\n",
              "       [ 19.9,  25.6],\n",
              "       [ 18. ,   7.4],\n",
              "       [ 11.9,   5.4],\n",
              "       [ 16.9,  84.8],\n",
              "       [  8. ,  21.6],\n",
              "       [ 17.2,  19.4],\n",
              "       [ 17.1,  57.6],\n",
              "       [ 20. ,   6.4],\n",
              "       [  8.4,  18.4],\n",
              "       [ 17.5,  47.4],\n",
              "       [  7.6,  17. ],\n",
              "       [ 16.7,  12.8],\n",
              "       [ 16.5,  13.1],\n",
              "       [ 27. ,  41.8],\n",
              "       [ 20.2,  20.3],\n",
              "       [ 16.7,  35.2],\n",
              "       [ 16.8,  23.7],\n",
              "       [ 17.6,  17.6],\n",
              "       [ 15.5,   8.3],\n",
              "       [ 17.2,  27.4],\n",
              "       [  8.7,  29.7],\n",
              "       [ 26.2,  71.8],\n",
              "       [ 17.6,  30. ],\n",
              "       [ 22.6,  19.6],\n",
              "       [ 10.3,  26.6],\n",
              "       [ 17.3,  18.2],\n",
              "       [ 20.9,   3.7],\n",
              "       [  6.7,  23.4],\n",
              "       [ 10.8,   5.8],\n",
              "       [ 11.9,   6. ],\n",
              "       [  5.9,  31.6],\n",
              "       [ 19.6,   3.6],\n",
              "       [ 17.3,   6. ],\n",
              "       [  7.6,  13.8],\n",
              "       [ 14. ,   8.1],\n",
              "       [ 14.8,   6.4],\n",
              "       [ 25.5,  66.2],\n",
              "       [ 18.4,   8.7]])"
            ]
          },
          "metadata": {},
          "execution_count": 119
        }
      ],
      "source": [
        "y"
      ]
    },
    {
      "cell_type": "markdown",
      "metadata": {
        "id": "AyhQaTwP9RzG"
      },
      "source": [
        "## Splitting the dataset into the Training set and Test set"
      ]
    },
    {
      "cell_type": "code",
      "execution_count": 120,
      "metadata": {
        "id": "bxOOauiN9VpC"
      },
      "outputs": [],
      "source": [
        "from sklearn.model_selection import train_test_split\n",
        "X_train, X_test, y_train, y_test = train_test_split(X, y, test_size = 1/3, random_state = 0)"
      ]
    },
    {
      "cell_type": "code",
      "execution_count": 121,
      "metadata": {
        "colab": {
          "base_uri": "https://localhost:8080/"
        },
        "id": "yWIXM-fONp6D",
        "outputId": "d3e6e269-e1c0-434f-9e1b-f887410542a3"
      },
      "outputs": [
        {
          "output_type": "execute_result",
          "data": {
            "text/plain": [
              "array([[ 18. ,   7.4],\n",
              "       [ 10.7,   3.6],\n",
              "       [ 12. ,  16. ],\n",
              "       [ 20.7,   1.7],\n",
              "       [ 14. ,   9.3],\n",
              "       [ 20.8,  59.7],\n",
              "       [ 23.8, 100.9],\n",
              "       [ 12.3,  38.9],\n",
              "       [ 16.7,  51.4],\n",
              "       [ 19.8,   5.5],\n",
              "       [ 19. ,  46. ],\n",
              "       [ 20.9,  22.9],\n",
              "       [ 19.2,  75.6],\n",
              "       [ 17.3,  18.2],\n",
              "       [ 10.6,  35.7],\n",
              "       [  9.6,  20.5],\n",
              "       [  7.6,  13.8],\n",
              "       [  5.3,  25.6],\n",
              "       [ 20.7,  27.3],\n",
              "       [ 12. ,  69.3],\n",
              "       [ 18.4,   9.3],\n",
              "       [  9.5,   9.3],\n",
              "       [ 14.8,   6.4],\n",
              "       [ 17.9,  26.4],\n",
              "       [ 12.6,  24.2],\n",
              "       [ 17.3,   6. ],\n",
              "       [ 11. ,  31.3],\n",
              "       [ 14. ,   8.1],\n",
              "       [ 16.8,  23.7],\n",
              "       [ 27. ,  41.8],\n",
              "       [  6.6,  50.6],\n",
              "       [ 22.2,  72.3],\n",
              "       [ 17.1,   2.4],\n",
              "       [  7.3,  45.2],\n",
              "       [ 11.9,   6. ],\n",
              "       [ 16.4,  34.6],\n",
              "       [ 22.1,  69.2],\n",
              "       [ 11.5,  10.9],\n",
              "       [ 18.4,  56.5],\n",
              "       [ 16.9,  52.9],\n",
              "       [ 16. ,  28.9],\n",
              "       [ 17.2,  19.4],\n",
              "       [ 17.1,  38.7],\n",
              "       [ 22.3,  27.2],\n",
              "       [  9.7,  36.8],\n",
              "       [ 19.8,  49.9],\n",
              "       [ 20.2,  65.7],\n",
              "       [ 13.7,   7.2],\n",
              "       [ 13.3,  49.3],\n",
              "       [ 20.5,  26.2],\n",
              "       [ 10.3,  26.6],\n",
              "       [ 11.6,   8.5],\n",
              "       [ 18. ,  53.4],\n",
              "       [ 22.4,  52.9],\n",
              "       [  5.3,   9.4],\n",
              "       [ 20.7,   5.3],\n",
              "       [ 22.6,  39.6],\n",
              "       [ 16.7,  49.8],\n",
              "       [  6.9,  20.7],\n",
              "       [ 16.5,  58.5],\n",
              "       [ 12.2,  25.6],\n",
              "       [ 11.9,   5.4],\n",
              "       [ 25.5,  66.2],\n",
              "       [ 11.8,  23.5],\n",
              "       [ 18.9,  11. ],\n",
              "       [ 21.7,  33.8],\n",
              "       [  7. ,  50.4],\n",
              "       [  3.2,   5.7],\n",
              "       [ 17.5,  47.4],\n",
              "       [ 15.3,  50.5],\n",
              "       [  7.3,  33. ],\n",
              "       [ 18.4,   8.7],\n",
              "       [ 17.4,   4. ],\n",
              "       [  6.6,  22.3],\n",
              "       [ 19.8,  21.4],\n",
              "       [ 17.8,   8.5],\n",
              "       [ 13.2,  16.6],\n",
              "       [ 11.3,   0.9],\n",
              "       [ 10.4,  45.1],\n",
              "       [ 15.5,  46.2],\n",
              "       [ 19.9,  25.6],\n",
              "       [ 20.7,   1.8],\n",
              "       [ 15. ,  59. ],\n",
              "       [  5.7,   2.1],\n",
              "       [ 16.7,  12.8],\n",
              "       [ 24.4,  55.8],\n",
              "       [ 10.1,  35.1],\n",
              "       [ 19.6,  45.1],\n",
              "       [ 21.2,  58.7],\n",
              "       [ 10.1,  24.3],\n",
              "       [ 24.7,   3.2],\n",
              "       [ 11.9,   7.4],\n",
              "       [ 18.9,  22.9],\n",
              "       [ 14.6,  34.5],\n",
              "       [ 11.6,  48.7],\n",
              "       [ 11.9,  38.6],\n",
              "       [  8. ,  21.6],\n",
              "       [ 11.9,   9.2],\n",
              "       [ 20.2,  20.3],\n",
              "       [ 13.2,  30. ],\n",
              "       [ 20.1,  37.9],\n",
              "       [ 20. ,   6.4],\n",
              "       [ 25.4,  44.3],\n",
              "       [ 10.5,  40.8],\n",
              "       [ 17.2,  45.9],\n",
              "       [ 11.3,  32.5],\n",
              "       [ 11. ,  23.1],\n",
              "       [ 12.6,  52.7],\n",
              "       [ 10.9,  11.9],\n",
              "       [ 19.6,   3.6],\n",
              "       [  8.8,  19.3],\n",
              "       [ 14.2,  14.2],\n",
              "       [ 17. ,  19.5],\n",
              "       [ 16.9,  84.8],\n",
              "       [ 17.3,  36.9],\n",
              "       [ 20.9,   3.7],\n",
              "       [ 16.5,  13.1],\n",
              "       [ 10.8,   5.8],\n",
              "       [ 21.5,  32. ],\n",
              "       [ 23.8,  37.7],\n",
              "       [ 10.9,  12.9],\n",
              "       [ 12.9,  73.4],\n",
              "       [ 18.3,  38.7],\n",
              "       [ 16. ,  63.2],\n",
              "       [ 25.4,   5. ],\n",
              "       [ 17.5,  23.5],\n",
              "       [ 15.6,  21.2],\n",
              "       [ 19.7,  17.9],\n",
              "       [ 13.4,  10.2],\n",
              "       [  5.9,  31.6],\n",
              "       [  9.4,  14.8],\n",
              "       [ 23.2,  18.5],\n",
              "       [  7.6,  17. ]])"
            ]
          },
          "metadata": {},
          "execution_count": 121
        }
      ],
      "source": [
        "y_train"
      ]
    },
    {
      "cell_type": "markdown",
      "metadata": {
        "id": "ZijQwFMQ9itx"
      },
      "source": [
        "## Training the Simple Linear Regression model on the Training set"
      ]
    },
    {
      "cell_type": "code",
      "execution_count": 122,
      "metadata": {
        "colab": {
          "base_uri": "https://localhost:8080/",
          "height": 75
        },
        "id": "B4Aj_8YJ9l7J",
        "outputId": "b18bf92d-e2c7-42f3-da48-49e5c89a3b47"
      },
      "outputs": [
        {
          "output_type": "execute_result",
          "data": {
            "text/plain": [
              "LinearRegression()"
            ],
            "text/html": [
              "<style>#sk-container-id-8 {color: black;background-color: white;}#sk-container-id-8 pre{padding: 0;}#sk-container-id-8 div.sk-toggleable {background-color: white;}#sk-container-id-8 label.sk-toggleable__label {cursor: pointer;display: block;width: 100%;margin-bottom: 0;padding: 0.3em;box-sizing: border-box;text-align: center;}#sk-container-id-8 label.sk-toggleable__label-arrow:before {content: \"▸\";float: left;margin-right: 0.25em;color: #696969;}#sk-container-id-8 label.sk-toggleable__label-arrow:hover:before {color: black;}#sk-container-id-8 div.sk-estimator:hover label.sk-toggleable__label-arrow:before {color: black;}#sk-container-id-8 div.sk-toggleable__content {max-height: 0;max-width: 0;overflow: hidden;text-align: left;background-color: #f0f8ff;}#sk-container-id-8 div.sk-toggleable__content pre {margin: 0.2em;color: black;border-radius: 0.25em;background-color: #f0f8ff;}#sk-container-id-8 input.sk-toggleable__control:checked~div.sk-toggleable__content {max-height: 200px;max-width: 100%;overflow: auto;}#sk-container-id-8 input.sk-toggleable__control:checked~label.sk-toggleable__label-arrow:before {content: \"▾\";}#sk-container-id-8 div.sk-estimator input.sk-toggleable__control:checked~label.sk-toggleable__label {background-color: #d4ebff;}#sk-container-id-8 div.sk-label input.sk-toggleable__control:checked~label.sk-toggleable__label {background-color: #d4ebff;}#sk-container-id-8 input.sk-hidden--visually {border: 0;clip: rect(1px 1px 1px 1px);clip: rect(1px, 1px, 1px, 1px);height: 1px;margin: -1px;overflow: hidden;padding: 0;position: absolute;width: 1px;}#sk-container-id-8 div.sk-estimator {font-family: monospace;background-color: #f0f8ff;border: 1px dotted black;border-radius: 0.25em;box-sizing: border-box;margin-bottom: 0.5em;}#sk-container-id-8 div.sk-estimator:hover {background-color: #d4ebff;}#sk-container-id-8 div.sk-parallel-item::after {content: \"\";width: 100%;border-bottom: 1px solid gray;flex-grow: 1;}#sk-container-id-8 div.sk-label:hover label.sk-toggleable__label {background-color: #d4ebff;}#sk-container-id-8 div.sk-serial::before {content: \"\";position: absolute;border-left: 1px solid gray;box-sizing: border-box;top: 0;bottom: 0;left: 50%;z-index: 0;}#sk-container-id-8 div.sk-serial {display: flex;flex-direction: column;align-items: center;background-color: white;padding-right: 0.2em;padding-left: 0.2em;position: relative;}#sk-container-id-8 div.sk-item {position: relative;z-index: 1;}#sk-container-id-8 div.sk-parallel {display: flex;align-items: stretch;justify-content: center;background-color: white;position: relative;}#sk-container-id-8 div.sk-item::before, #sk-container-id-8 div.sk-parallel-item::before {content: \"\";position: absolute;border-left: 1px solid gray;box-sizing: border-box;top: 0;bottom: 0;left: 50%;z-index: -1;}#sk-container-id-8 div.sk-parallel-item {display: flex;flex-direction: column;z-index: 1;position: relative;background-color: white;}#sk-container-id-8 div.sk-parallel-item:first-child::after {align-self: flex-end;width: 50%;}#sk-container-id-8 div.sk-parallel-item:last-child::after {align-self: flex-start;width: 50%;}#sk-container-id-8 div.sk-parallel-item:only-child::after {width: 0;}#sk-container-id-8 div.sk-dashed-wrapped {border: 1px dashed gray;margin: 0 0.4em 0.5em 0.4em;box-sizing: border-box;padding-bottom: 0.4em;background-color: white;}#sk-container-id-8 div.sk-label label {font-family: monospace;font-weight: bold;display: inline-block;line-height: 1.2em;}#sk-container-id-8 div.sk-label-container {text-align: center;}#sk-container-id-8 div.sk-container {/* jupyter's `normalize.less` sets `[hidden] { display: none; }` but bootstrap.min.css set `[hidden] { display: none !important; }` so we also need the `!important` here to be able to override the default hidden behavior on the sphinx rendered scikit-learn.org. See: https://github.com/scikit-learn/scikit-learn/issues/21755 */display: inline-block !important;position: relative;}#sk-container-id-8 div.sk-text-repr-fallback {display: none;}</style><div id=\"sk-container-id-8\" class=\"sk-top-container\"><div class=\"sk-text-repr-fallback\"><pre>LinearRegression()</pre><b>In a Jupyter environment, please rerun this cell to show the HTML representation or trust the notebook. <br />On GitHub, the HTML representation is unable to render, please try loading this page with nbviewer.org.</b></div><div class=\"sk-container\" hidden><div class=\"sk-item\"><div class=\"sk-estimator sk-toggleable\"><input class=\"sk-toggleable__control sk-hidden--visually\" id=\"sk-estimator-id-8\" type=\"checkbox\" checked><label for=\"sk-estimator-id-8\" class=\"sk-toggleable__label sk-toggleable__label-arrow\">LinearRegression</label><div class=\"sk-toggleable__content\"><pre>LinearRegression()</pre></div></div></div></div></div>"
            ]
          },
          "metadata": {},
          "execution_count": 122
        }
      ],
      "source": [
        "from sklearn.linear_model import LinearRegression\n",
        "regressor = LinearRegression()\n",
        "regressor.fit(X_train, y_train)"
      ]
    },
    {
      "cell_type": "markdown",
      "metadata": {
        "id": "wa2T1Lq89o5H"
      },
      "source": [
        "## Predicting the Test set results"
      ]
    },
    {
      "cell_type": "code",
      "execution_count": 123,
      "metadata": {
        "id": "Rn_sTJ2o9smm"
      },
      "outputs": [],
      "source": [
        "y_pred = regressor.predict(X_test)"
      ]
    },
    {
      "cell_type": "code",
      "execution_count": 124,
      "metadata": {
        "id": "jfn36lNHNp6H",
        "outputId": "4efe2d1b-fadd-4330-bc10-63a11c700095",
        "colab": {
          "base_uri": "https://localhost:8080/"
        }
      },
      "outputs": [
        {
          "output_type": "execute_result",
          "data": {
            "text/plain": [
              "array([[10.71090449, 26.04684818],\n",
              "       [ 8.66739056, 22.09508717],\n",
              "       [ 9.57943286, 18.80279749],\n",
              "       [25.10689779, 40.34620842],\n",
              "       [14.74546277, 23.82722735],\n",
              "       [ 8.33734   , 19.97946152],\n",
              "       [10.64011811, 35.41412804],\n",
              "       [18.47296157, 25.49547751],\n",
              "       [ 9.90052363, 30.48164921],\n",
              "       [17.97752419, 30.54870212],\n",
              "       [23.61464495, 39.74450378],\n",
              "       [10.70371164, 23.16308761],\n",
              "       [13.42255303, 21.45489673],\n",
              "       [17.19880027, 29.43726913],\n",
              "       [11.80018815, 28.63530411],\n",
              "       [13.37015482, 27.05713887],\n",
              "       [21.28625559, 31.08396749],\n",
              "       [ 9.15776563, 31.606012  ],\n",
              "       [14.26932388, 37.36508197],\n",
              "       [18.97950355, 31.47201384],\n",
              "       [25.07219659, 40.56087882],\n",
              "       [12.46120298, 20.750209  ],\n",
              "       [16.66926552, 29.64024323],\n",
              "       [13.85729501, 26.89952034],\n",
              "       [ 7.77372215, 18.47726212],\n",
              "       [15.21953909, 32.93286185],\n",
              "       [14.74466832, 24.5551685 ],\n",
              "       [20.83772835, 39.17291599],\n",
              "       [17.04856674, 23.1725383 ],\n",
              "       [ 8.91032744, 26.88254835],\n",
              "       [12.45162509, 32.23327898],\n",
              "       [20.99266978, 40.67269896],\n",
              "       [21.41542539, 29.12804788],\n",
              "       [22.02334916, 37.40566797],\n",
              "       [ 7.16044214, 22.77728688],\n",
              "       [ 7.02943404, 21.45480815],\n",
              "       [ 9.23220008, 22.50537484],\n",
              "       [15.65775449, 25.26921834],\n",
              "       [13.3754346 , 35.30313025],\n",
              "       [ 7.24636415, 21.19736307],\n",
              "       [11.00456166, 32.1835017 ],\n",
              "       [ 9.13267087, 26.62776642],\n",
              "       [15.69339624, 31.4113626 ],\n",
              "       [18.3224912 , 29.82455008],\n",
              "       [18.97494346, 31.13871046],\n",
              "       [13.55108876, 30.4567511 ],\n",
              "       [ 5.35442323, 17.32016992],\n",
              "       [10.49731256, 33.62236145],\n",
              "       [15.61978648, 33.89120553],\n",
              "       [10.95738784, 21.26842016],\n",
              "       [12.20918873, 24.73137205],\n",
              "       [20.71981266, 34.87733822],\n",
              "       [20.79415809, 31.27225322],\n",
              "       [17.03053128, 29.32138153],\n",
              "       [ 9.9826212 , 27.44317995],\n",
              "       [ 9.44605569, 22.80921924],\n",
              "       [23.70055268, 35.01950298],\n",
              "       [16.03208242, 27.87011067],\n",
              "       [18.12995044, 30.29262973],\n",
              "       [ 8.2175398 , 27.33626857],\n",
              "       [19.33526866, 24.46303408],\n",
              "       [15.74355892, 22.8946927 ],\n",
              "       [17.08931362, 24.18576412],\n",
              "       [15.32231915, 29.44108355],\n",
              "       [18.40417558, 36.18798148],\n",
              "       [20.2164325 , 35.02696734],\n",
              "       [22.12214271, 34.40851847]])"
            ]
          },
          "metadata": {},
          "execution_count": 124
        }
      ],
      "source": [
        "y_pred"
      ]
    },
    {
      "cell_type": "markdown",
      "metadata": {
        "id": "-zSoMZ-P9v8t"
      },
      "source": [
        "## Visualising the Training set results"
      ]
    },
    {
      "cell_type": "code",
      "execution_count": 125,
      "metadata": {
        "colab": {
          "base_uri": "https://localhost:8080/",
          "height": 472
        },
        "id": "IAePn_u-93tI",
        "outputId": "35424092-8f0f-4422-c850-18c80e503c05"
      },
      "outputs": [
        {
          "output_type": "display_data",
          "data": {
            "text/plain": [
              "<Figure size 640x480 with 1 Axes>"
            ],
            "image/png": "[encoded data removed]"
          },
          "metadata": {}
        }
      ],
      "source": [
        "plt.scatter(X_train, y_train, color = 'red')\n",
        "plt.plot(X_train, regressor.predict(X_train), color = 'blue')\n",
        "plt.title('Salary vs Experience (Training set)')\n",
        "plt.xlabel('Years of Experience')\n",
        "plt.ylabel('Salary')\n",
        "plt.show()"
      ]
    },
    {
      "cell_type": "markdown",
      "metadata": {
        "id": "EUX1Vhsv97ZT"
      },
      "source": [
        "## Visualising the Test set results"
      ]
    },
    {
      "cell_type": "code",
      "execution_count": 126,
      "metadata": {
        "colab": {
          "base_uri": "https://localhost:8080/",
          "height": 472
        },
        "id": "Ze9vpBTf-Bol",
        "outputId": "b10e2f35-8278-4cfb-d2b8-58293dba1d66"
      },
      "outputs": [
        {
          "output_type": "display_data",
          "data": {
            "text/plain": [
              "<Figure size 640x480 with 1 Axes>"
            ],
            "image/png": "[encoded data removed]"
          },
          "metadata": {}
        }
      ],
      "source": [
        "plt.scatter(X_test, y_test, color = 'red')\n",
        "plt.plot(X_train, regressor.predict(X_train), color = 'blue')\n",
        "plt.title('Salary vs Experience (Test set)')\n",
        "plt.xlabel('Years of Experience')\n",
        "plt.ylabel('Salary')\n",
        "plt.show()"
      ]
    },
    {
      "cell_type": "code",
      "execution_count": null,
      "metadata": {
        "id": "7MCQ_Xn2Np6L"
      },
      "outputs": [],
      "source": []
    }
  ],
  "metadata": {
    "colab": {
      "provenance": []
    },
    "kernelspec": {
      "display_name": "Python 3 (ipykernel)",
      "language": "python",
      "name": "python3"
    },
    "language_info": {
      "codemirror_mode": {
        "name": "ipython",
        "version": 3
      },
      "file_extension": ".py",
      "mimetype": "text/x-python",
      "name": "python",
      "nbconvert_exporter": "python",
      "pygments_lexer": "ipython3",
      "version": "3.9.5"
    }
  },
  "nbformat": 4,
  "nbformat_minor": 0
}